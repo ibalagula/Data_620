{
 "cells": [
  {
   "cell_type": "code",
   "execution_count": 1,
   "metadata": {
    "collapsed": false
   },
   "outputs": [
    {
     "name": "stdout",
     "output_type": "stream",
     "text": [
      "This non-commercial license of GraphLab Create for academic use is assigned to igor.balagula@spsmail.cuny.edu and will expire on September 11, 2017.\n"
     ]
    },
    {
     "name": "stderr",
     "output_type": "stream",
     "text": [
      "[INFO] graphlab.cython.cy_server: GraphLab Create v2.1 started. Logging: C:\\Users\\Igor\\AppData\\Local\\Temp\\graphlab_server_1473629266.log.0\n"
     ]
    },
    {
     "name": "stdout",
     "output_type": "stream",
     "text": [
      "Canvas is accessible via web browser at the URL: http://localhost:62652/index.html\n",
      "Opening Canvas in default web browser.\n"
     ]
    }
   ],
   "source": [
    "from graphlab import SGraph, Vertex, Edge\n",
    "g = SGraph()\n",
    "verts = [Vertex(0, attr={'name': 'Carol'}),\n",
    "         Vertex(1, attr={'name': 'Andre'}),\n",
    "         Vertex(2, attr={'name': 'Fernando'}),\n",
    "Vertex(3, attr={'name': 'Diane'}),\n",
    "Vertex(4, attr={'name': 'Beverly'}),\n",
    "Vertex(5, attr={'name': 'Garth'}),\n",
    "Vertex(6, attr={'name': 'Ed'}),\n",
    "Vertex(7, attr={'name': 'Heather'}),\n",
    "Vertex(8, attr={'name': 'Ike'}),\n",
    "Vertex(9, attr={'name': 'Jane'})\n",
    "]\n",
    "g = g.add_vertices(verts)\n",
    "g = g.add_edges(Edge(0, 1))\n",
    "g = g.add_edges(Edge(0, 2))\n",
    "g = g.add_edges(Edge(0, 3))\n",
    "g = g.add_edges(Edge(1, 2))\n",
    "g = g.add_edges(Edge(1, 3))\n",
    "g = g.add_edges(Edge(1, 4))\n",
    "\n",
    "g = g.add_edges(Edge(2, 3))\n",
    "g = g.add_edges(Edge(2, 5))\n",
    "g = g.add_edges(Edge(2, 7))\n",
    "g = g.add_edges(Edge(3, 4))\n",
    "g = g.add_edges(Edge(3, 5))\n",
    "g = g.add_edges(Edge(3, 6))\n",
    "g = g.add_edges(Edge(4, 5))\n",
    "g = g.add_edges(Edge(4, 6))\n",
    "g = g.add_edges(Edge(5, 6))\n",
    "g = g.add_edges(Edge(5, 7))\n",
    "g = g.add_edges(Edge(7, 8))\n",
    "g = g.add_edges(Edge(8, 9))\n",
    "\n",
    "g.show(vlabel='name')"
   ]
  },
  {
   "cell_type": "code",
   "execution_count": null,
   "metadata": {
    "collapsed": true
   },
   "outputs": [],
   "source": []
  }
 ],
 "metadata": {
  "kernelspec": {
   "display_name": "Python 2",
   "language": "python",
   "name": "python2"
  },
  "language_info": {
   "codemirror_mode": {
    "name": "ipython",
    "version": 2
   },
   "file_extension": ".py",
   "mimetype": "text/x-python",
   "name": "python",
   "nbconvert_exporter": "python",
   "pygments_lexer": "ipython2",
   "version": "2.7.11"
  }
 },
 "nbformat": 4,
 "nbformat_minor": 0
}
