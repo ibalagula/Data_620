{
 "cells": [
  {
   "cell_type": "markdown",
   "metadata": {},
   "source": [
    "# IS620 - Project 4\n",
    "## Igor Balagula"
   ]
  },
  {
   "cell_type": "markdown",
   "metadata": {},
   "source": [
    "Using the moview review document classifier discussed in this chapter, generate a list of 30 features that the classifier finds to be most informative. Can you explain why these particular features are informative? Do you find any of them surprising?"
   ]
  },
  {
   "cell_type": "code",
   "execution_count": 12,
   "metadata": {
    "collapsed": true
   },
   "outputs": [],
   "source": [
    "import nltk\n",
    "import random\n",
    "from nltk.corpus import movie_reviews"
   ]
  },
  {
   "cell_type": "markdown",
   "metadata": {},
   "source": [
    "Create a list that includes a list of all words in a specific movie review and an associated category (pos or neg)"
   ]
  },
  {
   "cell_type": "code",
   "execution_count": 13,
   "metadata": {
    "collapsed": true
   },
   "outputs": [],
   "source": [
    "documents=[(list(movie_reviews.words(fileid)),category)\n",
    "            for category in movie_reviews.categories()\n",
    "            for fileid in movie_reviews.fileids(category)]"
   ]
  },
  {
   "cell_type": "markdown",
   "metadata": {},
   "source": [
    "Shuffle documents"
   ]
  },
  {
   "cell_type": "code",
   "execution_count": 3,
   "metadata": {
    "collapsed": true
   },
   "outputs": [],
   "source": [
    "random.shuffle(documents)"
   ]
  },
  {
   "cell_type": "markdown",
   "metadata": {},
   "source": [
    "Calculate frequency of every word"
   ]
  },
  {
   "cell_type": "code",
   "execution_count": 4,
   "metadata": {
    "collapsed": true
   },
   "outputs": [],
   "source": [
    "all_words = nltk.FreqDist(w.lower() for w in movie_reviews.words())"
   ]
  },
  {
   "cell_type": "markdown",
   "metadata": {},
   "source": [
    "Select 2000 most frequent words"
   ]
  },
  {
   "cell_type": "code",
   "execution_count": 5,
   "metadata": {
    "collapsed": true
   },
   "outputs": [],
   "source": [
    "word_features=all_words.keys()[:2000]"
   ]
  },
  {
   "cell_type": "markdown",
   "metadata": {},
   "source": [
    "Create feature set for each review against list of 2000 words"
   ]
  },
  {
   "cell_type": "code",
   "execution_count": 6,
   "metadata": {
    "collapsed": true
   },
   "outputs": [],
   "source": [
    "def document_features(document):\n",
    "    document_words=set(document)\n",
    "    features={}\n",
    "    for word in word_features:\n",
    "        features['contains(%s)' % word] = (word in document_words)\n",
    "    return features"
   ]
  },
  {
   "cell_type": "code",
   "execution_count": 7,
   "metadata": {
    "collapsed": true
   },
   "outputs": [],
   "source": [
    "featuresets=[(document_features(d),c) for (d,c) in documents]"
   ]
  },
  {
   "cell_type": "markdown",
   "metadata": {},
   "source": [
    "Split data into training set and test set"
   ]
  },
  {
   "cell_type": "code",
   "execution_count": 8,
   "metadata": {
    "collapsed": true
   },
   "outputs": [],
   "source": [
    "train_set, test_set = featuresets[100:], featuresets[:100]"
   ]
  },
  {
   "cell_type": "markdown",
   "metadata": {},
   "source": [
    "Apply NaiveBayes classifier to the training set"
   ]
  },
  {
   "cell_type": "code",
   "execution_count": 9,
   "metadata": {
    "collapsed": true
   },
   "outputs": [],
   "source": [
    "classifier=nltk.NaiveBayesClassifier.train(train_set)"
   ]
  },
  {
   "cell_type": "markdown",
   "metadata": {},
   "source": [
    "Show classification accuracy of our classifier against the test set"
   ]
  },
  {
   "cell_type": "code",
   "execution_count": 10,
   "metadata": {
    "collapsed": false
   },
   "outputs": [
    {
     "name": "stdout",
     "output_type": "stream",
     "text": [
      "0.77\n"
     ]
    }
   ],
   "source": [
    "print nltk.classify.accuracy(classifier,test_set)"
   ]
  },
  {
   "cell_type": "markdown",
   "metadata": {},
   "source": [
    "Show most informative features"
   ]
  },
  {
   "cell_type": "code",
   "execution_count": 11,
   "metadata": {
    "collapsed": false
   },
   "outputs": [
    {
     "name": "stdout",
     "output_type": "stream",
     "text": [
      "Most Informative Features\n",
      "          contains(sans) = True              neg : pos    =      8.9 : 1.0\n",
      "    contains(mediocrity) = True              neg : pos    =      7.6 : 1.0\n",
      "     contains(dismissed) = True              pos : neg    =      7.1 : 1.0\n",
      "        contains(fabric) = True              pos : neg    =      6.4 : 1.0\n",
      "   contains(overwhelmed) = True              pos : neg    =      6.4 : 1.0\n",
      "   contains(bruckheimer) = True              neg : pos    =      6.2 : 1.0\n",
      "     contains(uplifting) = True              pos : neg    =      6.2 : 1.0\n",
      "        contains(doubts) = True              pos : neg    =      5.9 : 1.0\n",
      "          contains(wits) = True              pos : neg    =      5.8 : 1.0\n",
      "  contains(effortlessly) = True              pos : neg    =      5.7 : 1.0\n",
      "         contains(wires) = True              neg : pos    =      5.6 : 1.0\n",
      "        contains(beware) = True              neg : pos    =      5.6 : 1.0\n",
      "           contains(ugh) = True              neg : pos    =      5.3 : 1.0\n",
      "          contains(chad) = True              pos : neg    =      5.1 : 1.0\n",
      "       contains(topping) = True              pos : neg    =      5.1 : 1.0\n",
      "          contains(lang) = True              pos : neg    =      5.1 : 1.0\n",
      "       contains(dumbest) = True              neg : pos    =      4.9 : 1.0\n",
      "          contains(hugo) = True              pos : neg    =      4.7 : 1.0\n",
      "          contains(wang) = True              pos : neg    =      4.4 : 1.0\n",
      "         contains(snake) = True              neg : pos    =      4.4 : 1.0\n",
      "       contains(quicker) = True              neg : pos    =      4.3 : 1.0\n",
      "       contains(maxwell) = True              neg : pos    =      4.3 : 1.0\n",
      "    contains(cronenberg) = True              pos : neg    =      4.3 : 1.0\n",
      "   contains(understands) = True              pos : neg    =      4.2 : 1.0\n",
      "         contains(tripe) = True              neg : pos    =      4.1 : 1.0\n",
      "       contains(admired) = True              pos : neg    =      3.9 : 1.0\n",
      "       contains(wiseguy) = True              pos : neg    =      3.7 : 1.0\n",
      "   contains(existential) = True              pos : neg    =      3.7 : 1.0\n",
      "          contains(reap) = True              pos : neg    =      3.7 : 1.0\n",
      "       contains(bandits) = True              pos : neg    =      3.7 : 1.0\n"
     ]
    }
   ],
   "source": [
    "classifier.show_most_informative_features(30)"
   ]
  },
  {
   "cell_type": "markdown",
   "metadata": {},
   "source": [
    "Features that are expeted to be informative since all of them imply either clearly-positive or clearly-negative meaning:\n",
    "\n",
    "sans (neg)\n",
    "\n",
    "mediocrity (neg)\n",
    "\n",
    "uplifting (pos)\n",
    "\n",
    "wits (pos)\n",
    "\n",
    "effortlessly(pos)\n",
    "\n",
    "beware (neg)\n",
    "\n",
    "ugh(neg)\n",
    "\n",
    "dumbest(neg)\n",
    "\n",
    "admired(pos)\n",
    "\n",
    "wiseguy(pos)\n",
    "\n",
    "existential(pos)\n",
    "\n",
    "Features that are surprising as being important:\n",
    "\n",
    "dismissed\n",
    "\n",
    "fabric\n",
    "\n",
    "overwhelmed\n",
    "\n",
    "bruckheimer\n",
    "\n",
    "doubts\n",
    "\n",
    "wires\n",
    "\n",
    "chad\n",
    "\n",
    "topping\n",
    "\n",
    "lang\n",
    "\n",
    "hugo\n",
    "\n",
    "wang\n",
    "\n",
    "snake\n",
    "\n",
    "quicker\n",
    "\n",
    "maxwell\n",
    "\n",
    "cronenberg"
   ]
  }
 ],
 "metadata": {
  "kernelspec": {
   "display_name": "Python 2",
   "language": "python",
   "name": "python2"
  },
  "language_info": {
   "codemirror_mode": {
    "name": "ipython",
    "version": 2
   },
   "file_extension": ".py",
   "mimetype": "text/x-python",
   "name": "python",
   "nbconvert_exporter": "python",
   "pygments_lexer": "ipython2",
   "version": "2.7.11"
  }
 },
 "nbformat": 4,
 "nbformat_minor": 0
}
