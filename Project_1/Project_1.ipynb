{
 "cells": [
  {
   "cell_type": "markdown",
   "metadata": {},
   "source": [
    "# Project 1\n",
    "## Igor Balagula\n",
    "\n",
    "For this project I created a dataset that lists all of the college friends of myself and my wife and our friend's children. Edges indicate close relationship between people. Any pair of people who cal call themselves friends are connected.\n",
    "\n",
    "Data collection: I asked our friends to fill out a quick online survey where I listed all of our college friends and their children and asked everyone to check if they have a close relationship with all of the other people and consider them close friends.\n",
    "\n",
    "The graph is loaded from a file in Pajek format and converted into a simple graph. The graph is non-directed. The categorial variable is gender.\n",
    "\n",
    "The degree centrality and eigenvector centrality for each node are calculated.\n",
    "One-way ANOWA is performed to see if there any statistical difference in centrality measures between male and female groups."
   ]
  },
  {
   "cell_type": "code",
   "execution_count": 21,
   "metadata": {
    "collapsed": true
   },
   "outputs": [],
   "source": [
    "import networkx as nx\n",
    "import matplotlib.pyplot as plt\n",
    "from networkx.algorithms import bipartite\n",
    "from prettytable import PrettyTable\n",
    "from scipy import stats"
   ]
  },
  {
   "cell_type": "markdown",
   "metadata": {},
   "source": [
    "Load data from a pajek-formatted file"
   ]
  },
  {
   "cell_type": "code",
   "execution_count": 22,
   "metadata": {
    "collapsed": true
   },
   "outputs": [],
   "source": [
    "MG=nx.read_pajek(\"C:\\\\temp\\\\FRIENDS.NET\")"
   ]
  },
  {
   "cell_type": "markdown",
   "metadata": {},
   "source": [
    "Convert from Multigraph to Simple Graph"
   ]
  },
  {
   "cell_type": "code",
   "execution_count": 23,
   "metadata": {
    "collapsed": true
   },
   "outputs": [],
   "source": [
    "G=nx.Graph(MG)"
   ]
  },
  {
   "cell_type": "markdown",
   "metadata": {},
   "source": [
    "Assign categorical variable Gender to each node. For some reason I was unable to load it from the pajek-formatted file."
   ]
  },
  {
   "cell_type": "code",
   "execution_count": 24,
   "metadata": {
    "collapsed": true
   },
   "outputs": [],
   "source": [
    "nx.set_node_attributes(G, 'gender', {'Igor':'male','Ella':'female','Irene':'female','Saimon':'male','Ben':'male','Sofia':'female','Tatiana':'female','Ilya':'male','Art':'male',\n",
    "                                     'Ari':'female','Greb':'male','Victoria':'female','Alexandra':'female','Nikita':'male','Yana':'female','Alla':'female','Mila':'female','Elena':'female',\n",
    "                                     'Vika':'female','Ilona':'female','Arthur':'male','Ariella':'female','Boris':'male','Greg':'male','Ada':'female','Nina':'female','Alex':'male',\n",
    "                                     'Stan':'male','Maria':'female'})\n",
    "nx.set_node_attributes(G, 'person_type', {'Igor':'adult','Ella':'adult','Irene':'friend','Saimon':'friend','Ben':'friend_child','Sofia':'friend_child','Tatiana':'friend','Ilya':'friend','Art':'friend_child',\n",
    "                                     'Ari':'friend_child','Greb':'friend','Victoria':'friend','Alexandra':'friend_child','Nikita':'friend_child','Yana':'friend_child','Alla':'friend','Mila':'friend','Elena':'friend',\n",
    "                                     'Vika':'friend_child','Ilona':'child','Arthur':'child','Ariella':'friend_child','Boris':'friend','Greg':'friend_child','Ada':'friend_child','Nina':'friend','Alex':'friend',\n",
    "                                     'Stan':'friend','Maria':'friend'})"
   ]
  },
  {
   "cell_type": "markdown",
   "metadata": {},
   "source": [
    "Examine the nodes"
   ]
  },
  {
   "cell_type": "code",
   "execution_count": 25,
   "metadata": {
    "collapsed": false
   },
   "outputs": [
    {
     "name": "stdout",
     "output_type": "stream",
     "text": [
      "Number of nodes:\n",
      "29\n",
      "Number of edges:\n",
      "195\n",
      "[(u'Tatiana', {'gender': 'female', 'id': u'7', 'person_type': 'friend'}), (u'Alla', {'gender': 'female', 'id': u'16', 'person_type': 'friend'}), (u'Ariella', {'gender': 'female', 'id': u'22', 'person_type': 'friend_child'}), (u'Ada', {'gender': 'female', 'id': u'25', 'person_type': 'friend_child'}), (u'Alex', {'gender': 'male', 'id': u'27', 'person_type': 'friend'}), (u'Boris', {'gender': 'male', 'id': u'23', 'person_type': 'friend'}), (u'Ella', {'gender': 'female', 'id': u'2', 'person_type': 'adult'}), (u'Victoria', {'gender': 'female', 'id': u'12', 'person_type': 'friend'}), (u'Stan', {'gender': 'male', 'id': u'28', 'person_type': 'friend'}), (u'Elena', {'gender': 'female', 'id': u'18', 'person_type': 'friend'}), (u'Maria', {'gender': 'female', 'id': u'29', 'person_type': 'friend'}), (u'Ben', {'gender': 'male', 'id': u'5', 'person_type': 'friend_child'}), (u'Mila', {'gender': 'female', 'id': u'17', 'person_type': 'friend'}), (u'Nina', {'gender': 'female', 'id': u'26', 'person_type': 'friend'}), (u'Arthur', {'gender': 'male', 'id': u'21', 'person_type': 'child'}), (u'Greg', {'gender': 'male', 'id': u'24', 'person_type': 'friend_child'}), (u'Yana', {'gender': 'female', 'id': u'15', 'person_type': 'friend_child'}), (u'Greb', {'gender': 'male', 'id': u'11', 'person_type': 'friend'}), (u'Alexandra', {'gender': 'female', 'id': u'13', 'person_type': 'friend_child'}), (u'Vika', {'gender': 'female', 'id': u'19', 'person_type': 'friend_child'}), (u'Art', {'gender': 'male', 'id': u'9', 'person_type': 'friend_child'}), (u'Igor', {'gender': 'male', 'id': u'1', 'person_type': 'adult'}), (u'Sofia', {'gender': 'female', 'id': u'6', 'person_type': 'friend_child'}), (u'Nikita', {'gender': 'male', 'id': u'14', 'person_type': 'friend_child'}), (u'Ilya', {'gender': 'male', 'id': u'8', 'person_type': 'friend'}), (u'Ilona', {'gender': 'female', 'id': u'20', 'person_type': 'child'}), (u'Saimon', {'gender': 'male', 'id': u'4', 'person_type': 'friend'}), (u'Ari', {'gender': 'female', 'id': u'10', 'person_type': 'friend_child'}), (u'Irene', {'gender': 'female', 'id': u'3', 'person_type': 'friend'})]\n"
     ]
    }
   ],
   "source": [
    "print (\"Number of nodes:\")\n",
    "print (G.number_of_nodes())\n",
    "print (\"Number of edges:\")\n",
    "print (G.number_of_edges())\n",
    "#Examine nodes\n",
    "print G.nodes(data=True)"
   ]
  },
  {
   "cell_type": "markdown",
   "metadata": {},
   "source": [
    "Display graph"
   ]
  },
  {
   "cell_type": "code",
   "execution_count": 26,
   "metadata": {
    "collapsed": true
   },
   "outputs": [],
   "source": [
    "pos=nx.spring_layout(G)\n",
    "nx.draw_networkx_nodes(G,pos,nodelist=['Igor','Ella','Irene','Saimon','Ben','Sofia','Tatiana','Ilya','Art','Ari','Greb','Victoria','Alexandra','Nikita','Yana','Alla','Mila','Elena','Vika','Ilona','Arthur','Ariella','Boris','Greg','Ada','Nina','Alex','Stan','Maria'],node_color=['b','r','r','b','b','r','r','b','b','r','b','r','r','b','r','r','r','r','r','r','b','r','b','b','r','r','b','b','r'],node_size=500,alpha=0.8)\n",
    "nx.draw_networkx_edges(G,pos,width=1.0,alpha=0.5)\n",
    "nx.draw_networkx_labels(G,pos)\n",
    "plt.show()"
   ]
  },
  {
   "cell_type": "markdown",
   "metadata": {},
   "source": [
    "Calculate degree centrality for each node"
   ]
  },
  {
   "cell_type": "code",
   "execution_count": 27,
   "metadata": {
    "collapsed": true
   },
   "outputs": [],
   "source": [
    "d_c=nx.degree_centrality(G)"
   ]
  },
  {
   "cell_type": "markdown",
   "metadata": {},
   "source": [
    "Calculate eigenvector centrality for each node"
   ]
  },
  {
   "cell_type": "code",
   "execution_count": 28,
   "metadata": {
    "collapsed": true
   },
   "outputs": [],
   "source": [
    "d_c_s=sorted(d_c.iteritems(),key=lambda(u,v):(-v,u))"
   ]
  },
  {
   "cell_type": "code",
   "execution_count": 29,
   "metadata": {
    "collapsed": false
   },
   "outputs": [
    {
     "name": "stdout",
     "output_type": "stream",
     "text": [
      "+-----------+--------------+--------+-------------------+------------------+--------+\n",
      "|    Node   | Person_Type  | Degree | Degree Centrality | Eigen Centrality | Gender |\n",
      "+-----------+--------------+--------+-------------------+------------------+--------+\n",
      "|    Ella   |    adult     |   28   |        1.0        |      0.314       | female |\n",
      "|   Arthur  |    child     |   26   |       0.9286      |      0.3003      |  male  |\n",
      "|   Ilona   |    child     |   26   |       0.9286      |      0.3003      | female |\n",
      "|    Igor   |    adult     |   23   |       0.8214      |      0.2751      |  male  |\n",
      "|  Ariella  | friend_child |   20   |       0.7143      |      0.2544      | female |\n",
      "|    Nina   |    friend    |   17   |       0.6071      |      0.2225      | female |\n",
      "|  Tatiana  |    friend    |   14   |        0.5        |      0.1888      | female |\n",
      "|    Greb   |    friend    |   14   |        0.5        |      0.1853      |  male  |\n",
      "|    Mila   |    friend    |   13   |       0.4643      |      0.1709      | female |\n",
      "|    Alla   |    friend    |   12   |       0.4286      |      0.1447      | female |\n",
      "|    Alex   |    friend    |   12   |       0.4286      |      0.1731      |  male  |\n",
      "|    Stan   |    friend    |   12   |       0.4286      |      0.1756      |  male  |\n",
      "|    Ilya   |    friend    |   12   |       0.4286      |      0.1637      |  male  |\n",
      "|   Irene   |    friend    |   12   |       0.4286      |      0.1637      | female |\n",
      "|   Saimon  |    friend    |   11   |       0.3929      |      0.1481      |  male  |\n",
      "|    Ada    | friend_child |   11   |       0.3929      |      0.1642      | female |\n",
      "|   Boris   |    friend    |   11   |       0.3929      |      0.1642      |  male  |\n",
      "|   Elena   |    friend    |   11   |       0.3929      |      0.1572      | female |\n",
      "|   Maria   |    friend    |   11   |       0.3929      |      0.1642      | female |\n",
      "|    Greg   | friend_child |   11   |       0.3929      |      0.1642      |  male  |\n",
      "|    Art    | friend_child |   11   |       0.3929      |      0.1468      |  male  |\n",
      "|    Ari    | friend_child |   11   |       0.3929      |      0.1468      | female |\n",
      "|  Victoria |    friend    |   10   |       0.3571      |      0.1302      | female |\n",
      "|    Ben    | friend_child |   10   |       0.3571      |      0.1312      |  male  |\n",
      "|   Sofia   | friend_child |   10   |       0.3571      |      0.1312      | female |\n",
      "| Alexandra | friend_child |   9    |       0.3214      |      0.1243      | female |\n",
      "|   Nikita  | friend_child |   9    |       0.3214      |      0.1243      |  male  |\n",
      "|    Yana   | friend_child |   7    |        0.25       |      0.0782      | female |\n",
      "|    Vika   | friend_child |   6    |       0.2143      |      0.1028      | female |\n",
      "+-----------+--------------+--------+-------------------+------------------+--------+\n"
     ]
    }
   ],
   "source": [
    "e_c = nx.eigenvector_centrality(G)\n",
    "e_c_s = sorted(e_c.iteritems(), key = lambda(u,v):(-v,u))\n",
    "\n",
    "names1=[x[0] for x in d_c_s]\n",
    "names2=[x[0] for x in e_c_s]\n",
    "names=list(set(names1)|set(names2))\n",
    "\n",
    "table=[[name,G.node[name]['person_type'],G.degree(name),round(d_c[name],4),round(e_c[name],4),G.node[name]['gender']] for name in names]\n",
    "\n",
    "table=sorted(table,key=lambda x: -x[3])\n",
    "t = PrettyTable(['Node','Person_Type', 'Degree','Degree Centrality','Eigen Centrality','Gender'])\n",
    "for i in range(0, len(table)):\n",
    "    t.add_row(table[i])\n",
    "    \n",
    "print t"
   ]
  },
  {
   "cell_type": "markdown",
   "metadata": {},
   "source": [
    "As expected myself (Igor), my wife (Ella) and our children (Arthur, Ilona) have the highest degree centrality. I was surprised to see that our children have a degree centrality higher than mine. Children of our friends have the lowest degree centrality since many of them don't meet each other very often."
   ]
  },
  {
   "cell_type": "code",
   "execution_count": 30,
   "metadata": {
    "collapsed": false
   },
   "outputs": [
    {
     "name": "stdout",
     "output_type": "stream",
     "text": [
      "One-way ANOVA P = 0.852805300141\n",
      "Ttest_indResult(statistic=0.18732644659904304, pvalue=0.85280530014127098)\n"
     ]
    }
   ],
   "source": [
    "male=[]\n",
    "female=[]\n",
    "for i,j in G.nodes_iter(data=True):\n",
    "    if j['gender']=='male':\n",
    "        male.append(i)\n",
    "    elif j['gender']=='female':\n",
    "        female.append(i)\n",
    "\n",
    "G_male= G.subgraph(male)\n",
    "G_female= G.subgraph(female)\n",
    "\n",
    "\n",
    "# Centrality\n",
    "d_c_m=nx.degree_centrality(G_male)\n",
    "e_c_m=nx.eigenvector_centrality(nx.Graph(G_male))\n",
    "\n",
    "d_c_f=nx.degree_centrality(G_female)\n",
    "e_c_f=nx.eigenvector_centrality(nx.Graph(G_female))\n",
    "\n",
    "dcm=[]\n",
    "dcf=[]\n",
    "\n",
    "for key, value in d_c_m.items():\n",
    "    dcm.append(value)\n",
    "    \n",
    "for key, value in d_c_f.items():\n",
    "    dcf.append(value)\n",
    "\n",
    "  \n",
    "      \n",
    "f_val, p_val = stats.f_oneway(dcm, dcf)  \n",
    "  \n",
    "print \"One-way ANOVA P =\", p_val\n",
    "\n",
    "\n",
    "print (stats.ttest_ind(dcm, dcf)) # male vs. female - no significant difference"
   ]
  },
  {
   "cell_type": "markdown",
   "metadata": {},
   "source": [
    "We found that there is no statistically significant difference in degree centrality between male and female groups "
   ]
  }
 ],
 "metadata": {
  "kernelspec": {
   "display_name": "Python 2",
   "language": "python",
   "name": "python2"
  },
  "language_info": {
   "codemirror_mode": {
    "name": "ipython",
    "version": 2
   },
   "file_extension": ".py",
   "mimetype": "text/x-python",
   "name": "python",
   "nbconvert_exporter": "python",
   "pygments_lexer": "ipython2",
   "version": "2.7.11"
  }
 },
 "nbformat": 4,
 "nbformat_minor": 0
}
