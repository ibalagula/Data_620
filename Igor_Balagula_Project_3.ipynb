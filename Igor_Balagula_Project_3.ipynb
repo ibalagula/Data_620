{
 "cells": [
  {
   "cell_type": "code",
   "execution_count": 2,
   "metadata": {
    "collapsed": true
   },
   "outputs": [],
   "source": [
    "# Import required libraries\n",
    "import nltk\n",
    "from nltk.corpus import names\n",
    "import random\n",
    "\n",
    "\n"
   ]
  },
  {
   "cell_type": "code",
   "execution_count": 3,
   "metadata": {
    "collapsed": false
   },
   "outputs": [
    {
     "name": "stdout",
     "output_type": "stream",
     "text": [
      "Most Informative Features\n",
      "             last_letter = u'k'             male : female =     42.0 : 1.0\n",
      "             last_letter = u'a'           female : male   =     36.2 : 1.0\n",
      "             last_letter = u'f'             male : female =     23.0 : 1.0\n",
      "             last_letter = u'p'             male : female =     18.5 : 1.0\n",
      "             last_letter = u'd'             male : female =     10.6 : 1.0\n",
      "0.752\n"
     ]
    }
   ],
   "source": [
    "# Define gender classifier based on last letter of a name\n",
    "def gender_features(word):\n",
    "    return{'last_letter': word[-1]}\n",
    "\n",
    "names = ([(name,'male') for name in names.words('male.txt')]+[(name,'female') for name in names.words('female.txt')] )\n",
    "random.shuffle(names)\n",
    "featuresets=[(gender_features(n), g) for (n,g) in names]\n",
    "test_names = featuresets[:500]\n",
    "devtest_names = featuresets[500:1000]\n",
    "train_names = featuresets[1000:]\n",
    "classifier = nltk.NaiveBayesClassifier.train(train_names)\n",
    "classifier.classify(gender_features('Igor'))\n",
    "classifier.show_most_informative_features(5)\n",
    "\n",
    "test_names = names[:500]\n",
    "devtest_names = names[500:1000]\n",
    "train_names = names[1000:]\n",
    "\n",
    "train_set = [(gender_features(n), g) for (n,g) in train_names]\n",
    "devtest_set = [(gender_features(n), g) for (n,g) in devtest_names]\n",
    "test_set = [(gender_features(n), g) for (n,g) in test_names]\n",
    "classifier = nltk.NaiveBayesClassifier.train(train_set)\n",
    "print nltk.classify.accuracy(classifier, devtest_set)\n",
    "errors=[]\n",
    "for (name, tag) in devtest_names:\n",
    "    guess=classifier.classify(gender_features(name))\n",
    "    if guess !=tag:\n",
    "        errors.append((tag, guess, name))\n",
    "\n"
   ]
  },
  {
   "cell_type": "code",
   "execution_count": 7,
   "metadata": {
    "collapsed": false
   },
   "outputs": [
    {
     "name": "stdout",
     "output_type": "stream",
     "text": [
      "dev_test accuracy: 0.778\n",
      "test set accuracy: 0.79\n"
     ]
    }
   ],
   "source": [
    "# Define gender classifier based on name suffix \n",
    "def gender_features2(word):\n",
    "    return{'suffix1': word[-1:],\n",
    "           'suffix2': word[-2:]}\n",
    "\n",
    "\n",
    "train_set = [(gender_features2(n), g) for (n,g) in train_names]\n",
    "devtest_set = [(gender_features2(n), g) for (n,g) in devtest_names]\n",
    "test_set = [(gender_features2(n), g) for (n,g) in test_names]\n",
    "classifier = nltk.NaiveBayesClassifier.train(train_set)\n",
    "print \"dev_test accuracy:\",nltk.classify.accuracy(classifier, devtest_set)\n",
    "errors=[]\n",
    "for (name, tag) in devtest_names:\n",
    "    guess=classifier.classify(gender_features(name))\n",
    "    if guess !=tag:\n",
    "        errors.append((tag, guess, name))\n",
    "\n",
    "print \"test set accuracy:\",nltk.classify.accuracy(classifier, test_set)\n",
    "\n",
    "\n"
   ]
  },
  {
   "cell_type": "code",
   "execution_count": 8,
   "metadata": {
    "collapsed": false
   },
   "outputs": [
    {
     "name": "stdout",
     "output_type": "stream",
     "text": [
      "dev_test accuracy: 0.778\n",
      "test set accuracy: 0.79\n"
     ]
    }
   ],
   "source": [
    "# Define gender classifier based on last two letters and last letterbeing a vowel\n",
    "def gender_features3(name):\n",
    "    name=name.upper()\n",
    "    return {\n",
    "        'last_letter': name[-1],\n",
    "        'last_two' : name[-2:],\n",
    "        'last_is_vowel' : (name[-1] in 'aeiouy')\n",
    "    }\n",
    "train_set = [(gender_features3(n), g) for (n,g) in train_names]\n",
    "devtest_set = [(gender_features3(n), g) for (n,g) in devtest_names]\n",
    "test_set = [(gender_features3(n), g) for (n,g) in test_names]\n",
    "classifier = nltk.NaiveBayesClassifier.train(train_set)\n",
    "print \"dev_test accuracy:\",nltk.classify.accuracy(classifier, devtest_set)\n",
    "\n",
    "print \"test set accuracy:\",nltk.classify.accuracy(classifier, test_set)"
   ]
  },
  {
   "cell_type": "code",
   "execution_count": null,
   "metadata": {
    "collapsed": true
   },
   "outputs": [],
   "source": [
    "# the last two clasifiers exibit similar performance\n",
    "# in both cases test set accuracy is slightly higher than dev_test accuracy"
   ]
  }
 ],
 "metadata": {
  "kernelspec": {
   "display_name": "Python 2",
   "language": "python",
   "name": "python2"
  },
  "language_info": {
   "codemirror_mode": {
    "name": "ipython",
    "version": 2
   },
   "file_extension": ".py",
   "mimetype": "text/x-python",
   "name": "python",
   "nbconvert_exporter": "python",
   "pygments_lexer": "ipython2",
   "version": "2.7.11"
  }
 },
 "nbformat": 4,
 "nbformat_minor": 0
}
